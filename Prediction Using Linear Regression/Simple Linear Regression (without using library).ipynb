{
 "cells": [
  {
   "cell_type": "markdown",
   "metadata": {},
   "source": [
    "# Simple Linear Regression (without using library)"
   ]
  },
  {
   "cell_type": "markdown",
   "metadata": {},
   "source": [
    "### Importing Required Packages and Importing Dataset"
   ]
  },
  {
   "cell_type": "code",
   "execution_count": 1,
   "metadata": {},
   "outputs": [],
   "source": [
    "#import required packages\n",
    "import pandas as pd\n",
    "import numpy as np\n",
    "import matplotlib.pyplot as plt"
   ]
  },
  {
   "cell_type": "code",
   "execution_count": 2,
   "metadata": {},
   "outputs": [],
   "source": [
    "#import required dataset into pandas dataframe\n",
    "data=pd.read_csv(\"E:/DataSets/headbrain.csv\")"
   ]
  },
  {
   "cell_type": "code",
   "execution_count": 3,
   "metadata": {},
   "outputs": [
    {
     "name": "stdout",
     "output_type": "stream",
     "text": [
      "Dataset Shape :  (237, 4)\n"
     ]
    },
    {
     "data": {
      "text/html": [
       "<div>\n",
       "<style scoped>\n",
       "    .dataframe tbody tr th:only-of-type {\n",
       "        vertical-align: middle;\n",
       "    }\n",
       "\n",
       "    .dataframe tbody tr th {\n",
       "        vertical-align: top;\n",
       "    }\n",
       "\n",
       "    .dataframe thead th {\n",
       "        text-align: right;\n",
       "    }\n",
       "</style>\n",
       "<table border=\"1\" class=\"dataframe\">\n",
       "  <thead>\n",
       "    <tr style=\"text-align: right;\">\n",
       "      <th></th>\n",
       "      <th>Gender</th>\n",
       "      <th>Age Range</th>\n",
       "      <th>Head Size(cm^3)</th>\n",
       "      <th>Brain Weight(grams)</th>\n",
       "    </tr>\n",
       "  </thead>\n",
       "  <tbody>\n",
       "    <tr>\n",
       "      <th>0</th>\n",
       "      <td>1</td>\n",
       "      <td>1</td>\n",
       "      <td>4512</td>\n",
       "      <td>1530</td>\n",
       "    </tr>\n",
       "    <tr>\n",
       "      <th>1</th>\n",
       "      <td>1</td>\n",
       "      <td>1</td>\n",
       "      <td>3738</td>\n",
       "      <td>1297</td>\n",
       "    </tr>\n",
       "    <tr>\n",
       "      <th>2</th>\n",
       "      <td>1</td>\n",
       "      <td>1</td>\n",
       "      <td>4261</td>\n",
       "      <td>1335</td>\n",
       "    </tr>\n",
       "    <tr>\n",
       "      <th>3</th>\n",
       "      <td>1</td>\n",
       "      <td>1</td>\n",
       "      <td>3777</td>\n",
       "      <td>1282</td>\n",
       "    </tr>\n",
       "    <tr>\n",
       "      <th>4</th>\n",
       "      <td>1</td>\n",
       "      <td>1</td>\n",
       "      <td>4177</td>\n",
       "      <td>1590</td>\n",
       "    </tr>\n",
       "  </tbody>\n",
       "</table>\n",
       "</div>"
      ],
      "text/plain": [
       "   Gender  Age Range  Head Size(cm^3)  Brain Weight(grams)\n",
       "0       1          1             4512                 1530\n",
       "1       1          1             3738                 1297\n",
       "2       1          1             4261                 1335\n",
       "3       1          1             3777                 1282\n",
       "4       1          1             4177                 1590"
      ]
     },
     "execution_count": 3,
     "metadata": {},
     "output_type": "execute_result"
    }
   ],
   "source": [
    "print(\"Dataset Shape : \", data.shape)\n",
    "data.head()"
   ]
  },
  {
   "cell_type": "markdown",
   "metadata": {},
   "source": [
    "**Splitting the Data**"
   ]
  },
  {
   "cell_type": "code",
   "execution_count": 4,
   "metadata": {},
   "outputs": [],
   "source": [
    "train = data[:200]\n",
    "test = data[200:]"
   ]
  },
  {
   "cell_type": "markdown",
   "metadata": {},
   "source": [
    "### Modelling the Regression Line and Testing it"
   ]
  },
  {
   "cell_type": "markdown",
   "metadata": {},
   "source": [
    "**Regression Line for Training Data**"
   ]
  },
  {
   "cell_type": "code",
   "execution_count": 5,
   "metadata": {},
   "outputs": [
    {
     "name": "stdout",
     "output_type": "stream",
     "text": [
      "200\n"
     ]
    }
   ],
   "source": [
    "X=train['Head Size(cm^3)'].values\n",
    "Y=train['Brain Weight(grams)'].values\n",
    "size=len(X)\n",
    "print(size)"
   ]
  },
  {
   "cell_type": "code",
   "execution_count": 6,
   "metadata": {},
   "outputs": [
    {
     "name": "stdout",
     "output_type": "stream",
     "text": [
      "Mean of X values :  3679.225\n",
      "Mean of Y values :  1299.01\n"
     ]
    }
   ],
   "source": [
    "#obtain the mean values\n",
    "meanX = np.mean(X)\n",
    "meanY = np.mean(Y)\n",
    "print(\"Mean of X values : \", meanX)\n",
    "print(\"Mean of Y values : \", meanY)"
   ]
  },
  {
   "cell_type": "code",
   "execution_count": 7,
   "metadata": {},
   "outputs": [
    {
     "name": "stdout",
     "output_type": "stream",
     "text": [
      "0.24984027563731726 379.79141186829145\n"
     ]
    }
   ],
   "source": [
    "#calculating the slope and y-intercept for the regression line\n",
    "numerator=0\n",
    "denominator=0\n",
    "for i in range(size):\n",
    "    numerator += (X[i]-meanX)*(Y[i]-meanY)\n",
    "    denominator += (X[i]-meanX)**2\n",
    "b1=numerator/denominator\n",
    "b0 = meanY - (b1*meanX)\n",
    "print(b1,b0)"
   ]
  },
  {
   "cell_type": "markdown",
   "metadata": {},
   "source": [
    "**Results for Training Data**"
   ]
  },
  {
   "cell_type": "code",
   "execution_count": 8,
   "metadata": {},
   "outputs": [
    {
     "name": "stdout",
     "output_type": "stream",
     "text": [
      "Mean Square Error =  5347.944962843047\n",
      "Root Mean Sqaure Error =  73.12964489755879\n",
      "R^2 score for training data =  0.9564664299958757\n"
     ]
    }
   ],
   "source": [
    "#calculate the Mean Square Error and Root Mean Square Error\n",
    "se=0\n",
    "mse=0\n",
    "rmse=0\n",
    "ss_r=0\n",
    "ss_t=0\n",
    "for i in range(size):\n",
    "    Y_pred = (b1*X[i]) + b0\n",
    "    se += (Y[i]-Y_pred)**2\n",
    "mse = se/size\n",
    "print(\"Mean Square Error = \",mse)\n",
    "rmse = np.sqrt(mse)\n",
    "print(\"Root Mean Sqaure Error = \",rmse)\n",
    "\n",
    "#calculate the Rsquare aka coefficient of determination\n",
    "for i in range(size):\n",
    "    Y_pred = b0 + b1 * X[i]\n",
    "    ss_t = (Y[i] - meanY) ** 2\n",
    "    ss_r = (Y[i] - Y_pred) ** 2\n",
    "r2 = 1 - (ss_r/ss_t)\n",
    "print(\"R^2 score for training data = \",r2)"
   ]
  },
  {
   "cell_type": "markdown",
   "metadata": {},
   "source": [
    "**Regression Line for Test Data**"
   ]
  },
  {
   "cell_type": "code",
   "execution_count": 9,
   "metadata": {},
   "outputs": [
    {
     "name": "stdout",
     "output_type": "stream",
     "text": [
      "37\n"
     ]
    }
   ],
   "source": [
    "X1=test['Head Size(cm^3)'].values\n",
    "Y1=test['Brain Weight(grams)'].values\n",
    "size1=len(X1)\n",
    "print(size1)"
   ]
  },
  {
   "cell_type": "code",
   "execution_count": 10,
   "metadata": {},
   "outputs": [
    {
     "name": "stdout",
     "output_type": "stream",
     "text": [
      "Mean of X values :  3389.4864864864867\n",
      "Mean of Y values :  1195.6486486486488\n"
     ]
    }
   ],
   "source": [
    "#obtain the mean values\n",
    "meanX1 = np.mean(X1)\n",
    "meanY1 = np.mean(Y1)\n",
    "print(\"Mean of X values : \", meanX1)\n",
    "print(\"Mean of Y values : \", meanY1)"
   ]
  },
  {
   "cell_type": "code",
   "execution_count": 11,
   "metadata": {},
   "outputs": [
    {
     "name": "stdout",
     "output_type": "stream",
     "text": [
      "213.38416260559086 0.289797433906062\n"
     ]
    }
   ],
   "source": [
    "#calculating the slope and y-intercept for the regression line\n",
    "numerator1=0\n",
    "denominator1=0\n",
    "for i in range(size1):\n",
    "    numerator1 += (X1[i]-meanX1)*(Y1[i]-meanY1)\n",
    "    denominator1 += (X1[i]-meanX1)**2\n",
    "b1=numerator1/denominator1\n",
    "b0 = meanY1 - (b1*meanX1)\n",
    "print(b0,b1)"
   ]
  },
  {
   "cell_type": "markdown",
   "metadata": {},
   "source": [
    "**Results for Test Data**"
   ]
  },
  {
   "cell_type": "code",
   "execution_count": 12,
   "metadata": {},
   "outputs": [
    {
     "name": "stdout",
     "output_type": "stream",
     "text": [
      "Mean Square Error =  665.4971482043476\n",
      "Root Mean Sqaure Error =  25.797231405799103\n",
      "R^2 score for training data =  -0.011629655827626761\n"
     ]
    }
   ],
   "source": [
    "#calculate the Mean Square Error and Root Mean Square Error\n",
    "se1=0\n",
    "mse1=0\n",
    "rmse1=0\n",
    "ss_r1=0\n",
    "ss_t1=0\n",
    "for i in range(size1):\n",
    "    Y_pred = (b1*X1[i]) + b0\n",
    "    se1 += (Y1[i]-Y_pred)**2\n",
    "mse1 = se1/size\n",
    "print(\"Mean Square Error = \",mse1)\n",
    "rmse1 = np.sqrt(mse1)\n",
    "print(\"Root Mean Sqaure Error = \",rmse1)\n",
    "\n",
    "#calculate the Rsquare aka coefficient of determination\n",
    "for i in range(size1):\n",
    "    Y_pred = b0 + b1 * X1[i]\n",
    "    ss_t1 = (Y1[i] - meanY1) ** 2\n",
    "    ss_r1 = (Y1[i] - Y_pred) ** 2\n",
    "r21 = 1 - (ss_r1/ss_t1)\n",
    "print(\"R^2 score for training data = \",r21)"
   ]
  },
  {
   "cell_type": "markdown",
   "metadata": {},
   "source": [
    "### Visualizing the Data"
   ]
  },
  {
   "cell_type": "markdown",
   "metadata": {},
   "source": [
    "**Plot with Actual Points and the Regression Line obtained for Training Data**"
   ]
  },
  {
   "cell_type": "code",
   "execution_count": 13,
   "metadata": {},
   "outputs": [
    {
     "data": {
      "image/png": "[encoded data removed]",
      "text/plain": [
       "<Figure size 432x288 with 1 Axes>"
      ]
     },
     "metadata": {
      "needs_background": "light"
     },
     "output_type": "display_data"
    }
   ],
   "source": [
    "#the yellow straight line shows the regression line\n",
    "max_X = np.max(X)\n",
    "min_X = np.min(X)\n",
    "x = np.linspace(min_X,max_X)\n",
    "y = (b1*x)+b0\n",
    "plt.plot(x,y,color='yellow',label='Regression line')\n",
    "#the green scatter plot show the train data points\n",
    "plt.scatter(X,Y,color='green',label='Scatter Plot')\n",
    "#add plot labels\n",
    "plt.xlabel('Head Size(cm^3)')\n",
    "plt.ylabel('Brain Weight(grams)')\n",
    "plt.legend()\n",
    "plt.show()"
   ]
  },
  {
   "cell_type": "markdown",
   "metadata": {},
   "source": [
    "**Plot with Actual Points and the Regression Line obtained for Test Data**"
   ]
  },
  {
   "cell_type": "code",
   "execution_count": 14,
   "metadata": {},
   "outputs": [
    {
     "data": {
      "image/png": "[encoded data removed]",
      "text/plain": [
       "<Figure size 432x288 with 1 Axes>"
      ]
     },
     "metadata": {
      "needs_background": "light"
     },
     "output_type": "display_data"
    }
   ],
   "source": [
    "#the red straight line shows the regression line\n",
    "max_X = np.max(X1)\n",
    "min_X = np.min(X1)\n",
    "x = np.linspace(min_X,max_X)\n",
    "y = (b1*x)+b0\n",
    "plt.plot(x,y,color='RED',label='Regression line')\n",
    "#the blue scatter plot show the train data points\n",
    "plt.scatter(X1,Y1,color='cornflowerblue',label='Scatter Plot')\n",
    "#add plot labels\n",
    "plt.xlabel('Head Size(cm^3)')\n",
    "plt.ylabel('Brain Weight(grams)')\n",
    "plt.legend()\n",
    "plt.show()"
   ]
  },
  {
   "cell_type": "markdown",
   "metadata": {},
   "source": [
    "**Training vs Test MSE(Mean Square Error)**"
   ]
  },
  {
   "cell_type": "code",
   "execution_count": 15,
   "metadata": {},
   "outputs": [
    {
     "data": {
      "image/png": "[encoded data removed]",
      "text/plain": [
       "<Figure size 432x288 with 1 Axes>"
      ]
     },
     "metadata": {
      "needs_background": "light"
     },
     "output_type": "display_data"
    }
   ],
   "source": [
    "# plot trainig vs test MSE\n",
    "plt.scatter(mse, mse1, c='crimson', label='Training MSE vs Test MSE')\n",
    "plt.xlabel('Training MSE')\n",
    "plt.ylabel('Test MSE')\n",
    "plt.legend()\n",
    "plt.show()"
   ]
  },
  {
   "cell_type": "markdown",
   "metadata": {},
   "source": [
    "**Training vs Test RMSE(Root Mean Square Error)**"
   ]
  },
  {
   "cell_type": "code",
   "execution_count": 16,
   "metadata": {},
   "outputs": [
    {
     "data": {
      "image/png": "[encoded data removed]",
      "text/plain": [
       "<Figure size 432x288 with 1 Axes>"
      ]
     },
     "metadata": {
      "needs_background": "light"
     },
     "output_type": "display_data"
    }
   ],
   "source": [
    "# plot trainig vs test RMSE\n",
    "plt.scatter(rmse, rmse1, c='blue', label='Training RMSE vs Test RMSE')\n",
    "plt.xlabel('Training RMSE')\n",
    "plt.ylabel('Test RMSE')\n",
    "plt.legend()\n",
    "plt.show()"
   ]
  }
 ],
 "metadata": {
  "kernelspec": {
   "display_name": "Python 3",
   "language": "python",
   "name": "python3"
  },
  "language_info": {
   "codemirror_mode": {
    "name": "ipython",
    "version": 3
   },
   "file_extension": ".py",
   "mimetype": "text/x-python",
   "name": "python",
   "nbconvert_exporter": "python",
   "pygments_lexer": "ipython3",
   "version": "3.8.3"
  }
 },
 "nbformat": 4,
 "nbformat_minor": 2
}
